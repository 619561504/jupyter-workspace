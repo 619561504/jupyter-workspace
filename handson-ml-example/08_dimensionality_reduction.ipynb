{
 "cells": [
  {
   "cell_type": "code",
   "execution_count": 5,
   "metadata": {},
   "outputs": [],
   "source": [
    "from __future__ import print_function, unicode_literals, division\n",
    "import numpy as np\n",
    "import pandas as pd\n",
    "\n",
    "np.random.seed(42)\n",
    "\n",
    "%matplotlib inline\n",
    "import matplotlib.pyplot as plt\n",
    "from IPython.display import display"
   ]
  },
  {
   "cell_type": "code",
   "execution_count": 2,
   "metadata": {},
   "outputs": [],
   "source": [
    "plt.rcParams[\"axes.labelsize\"] = 14\n",
    "plt.rcParams[\"ytick.labelsize\"] = 12\n",
    "plt.rcParams[\"xtick.labelsize\"] = 12"
   ]
  },
  {
   "cell_type": "code",
   "execution_count": 3,
   "metadata": {},
   "outputs": [],
   "source": [
    "np.random.seed(4)\n",
    "m = 60\n",
    "w1, w2 = 0.1, 0.3\n",
    "noise = 0.1\n",
    "\n",
    "angles = np.random.rand(m) * 3 * np.pi / 2 - 0.5\n",
    "X = np.empty((m, 3))\n",
    "X[:, 0] = np.cos(angles) + np.sin(angles)/2 + noise * np.random.randn(m) / 2\n",
    "X[:, 1] = np.sin(angles) * 0.7 + noise * np.random.randn(m) / 2\n",
    "X[:, 2] = X[:, 0] * w1 + X[:, 1] * w2 + noise * np.random.randn(m)"
   ]
  },
  {
   "cell_type": "code",
   "execution_count": 4,
   "metadata": {
    "scrolled": true
   },
   "outputs": [
    {
     "data": {
      "text/plain": [
       "array([[-1.01570027, -0.55091331, -0.26132626],\n",
       "       [-0.00771675,  0.59958572,  0.03507755],\n",
       "       [-0.95317135, -0.46453691, -0.24920288],\n",
       "       [-0.92012304,  0.21009593,  0.02182381],\n",
       "       [-0.76309739,  0.158261  ,  0.19152496],\n",
       "       [ 1.11816122,  0.32508721,  0.31710572],\n",
       "       [-1.02258878, -0.64384064, -0.13368695],\n",
       "       [ 0.67351984, -0.27342519, -0.00787835],\n",
       "       [ 1.01619558,  0.51546608,  0.46783297],\n",
       "       [ 0.54957723,  0.67728016,  0.2340159 ],\n",
       "       [-0.98960443,  0.00886617, -0.12152034],\n",
       "       [ 1.13248106,  0.28229967,  0.06972972],\n",
       "       [-0.99337712, -0.26832824, -0.15761101],\n",
       "       [-0.94763679, -0.4995849 , -0.13927911],\n",
       "       [ 1.10095709,  0.1706481 ,  0.09790432],\n",
       "       [-0.34604591,  0.45334414,  0.06433843],\n",
       "       [ 0.69102621, -0.27337761, -0.05926516],\n",
       "       [ 0.68302902,  0.70421846,  0.24642318],\n",
       "       [ 0.8774031 , -0.16775101, -0.02162333],\n",
       "       [-1.06090127, -0.48213721, -0.38573526],\n",
       "       [ 0.52336644,  0.66585845,  0.39019099],\n",
       "       [-0.94419403, -0.61502157, -0.47610118],\n",
       "       [-0.9716288 ,  0.00742468, -0.18764369],\n",
       "       [-1.10560661, -0.31903307, -0.17189644],\n",
       "       [ 1.1748694 ,  0.15718214,  0.26579776],\n",
       "       [ 0.91337123, -0.1608149 ,  0.02223257],\n",
       "       [-0.28688829,  0.56373778,  0.11210787],\n",
       "       [ 1.10247263,  0.21024786,  0.17826927],\n",
       "       [-0.93581594,  0.14433427, -0.07641252],\n",
       "       [ 0.6617217 ,  0.7350669 ,  0.37436649],\n",
       "       [ 0.09896169,  0.60619461,  0.14346668],\n",
       "       [-1.08103158, -0.54686117, -0.37070336],\n",
       "       [ 0.03004261,  0.60541538,  0.13736259],\n",
       "       [ 0.97846627, -0.04833433,  0.09297312],\n",
       "       [ 0.97257451,  0.15564902,  0.2668735 ],\n",
       "       [-0.06924261,  0.57029162,  0.32415098],\n",
       "       [ 0.01690169,  0.64656545,  0.15571838],\n",
       "       [-0.40544483,  0.39226596, -0.06928305],\n",
       "       [ 0.64162827,  0.68484229,  0.13122889],\n",
       "       [-0.64012055,  0.41578899,  0.27325686],\n",
       "       [ 0.7326402 ,  0.75604792,  0.25979142],\n",
       "       [-0.44999735,  0.52952899,  0.15964958],\n",
       "       [-0.98461065,  0.02344158,  0.1002999 ],\n",
       "       [ 1.11939222,  0.24629838,  0.11781711],\n",
       "       [ 0.78441066,  0.64312236,  0.25192037],\n",
       "       [ 0.16636498,  0.71958358,  0.17445205],\n",
       "       [-0.67371747,  0.3528853 , -0.07109776],\n",
       "       [ 1.11429663,  0.41882472,  0.31705263],\n",
       "       [-0.11381596,  0.6373893 ,  0.28640517],\n",
       "       [-0.45471725,  0.43269163, -0.10303808],\n",
       "       [-1.15790478, -0.39121007, -0.13498243],\n",
       "       [ 0.83494104,  0.66412252,  0.25913415],\n",
       "       [-0.46940298,  0.39639057,  0.0903395 ],\n",
       "       [ 1.14845951,  0.31874645,  0.23025679],\n",
       "       [ 0.24039921,  0.59890442,  0.07305738],\n",
       "       [ 1.10567699,  0.21166076,  0.14297884],\n",
       "       [-1.01152009, -0.449484  , -0.33508853],\n",
       "       [ 0.52519411,  0.64730821,  0.43823703],\n",
       "       [-1.09575714, -0.16906908,  0.05828838],\n",
       "       [ 0.58692443,  0.62026757,  0.25317605]])"
      ]
     },
     "execution_count": 4,
     "metadata": {},
     "output_type": "execute_result"
    }
   ],
   "source": [
    "X"
   ]
  },
  {
   "cell_type": "code",
   "execution_count": 6,
   "metadata": {},
   "outputs": [],
   "source": [
    "from six.moves import urllib\n",
    "from sklearn.datasets import fetch_mldata\n",
    "mnist = fetch_mldata(\"MNIST original\")"
   ]
  },
  {
   "cell_type": "code",
   "execution_count": 7,
   "metadata": {},
   "outputs": [],
   "source": [
    "from sklearn.model_selection import train_test_split"
   ]
  },
  {
   "cell_type": "code",
   "execution_count": 8,
   "metadata": {},
   "outputs": [],
   "source": [
    "X = mnist[\"data\"]\n",
    "y = mnist[\"target\"]\n",
    "\n",
    "X_train, X_test, y_train, y_test = train_test_split(X, y)"
   ]
  },
  {
   "cell_type": "code",
   "execution_count": 14,
   "metadata": {},
   "outputs": [
    {
     "data": {
      "text/plain": [
       "52500"
      ]
     },
     "metadata": {},
     "output_type": "display_data"
    },
    {
     "data": {
      "text/plain": [
       "17500"
      ]
     },
     "metadata": {},
     "output_type": "display_data"
    },
    {
     "data": {
      "text/plain": [
       "(52500, 784)"
      ]
     },
     "metadata": {},
     "output_type": "display_data"
    }
   ],
   "source": [
    "display(len(X_train))\n",
    "display(len(X_test))\n",
    "display(X_train.shape)"
   ]
  },
  {
   "cell_type": "code",
   "execution_count": 11,
   "metadata": {},
   "outputs": [],
   "source": [
    "from sklearn.decomposition import PCA"
   ]
  },
  {
   "cell_type": "code",
   "execution_count": 16,
   "metadata": {},
   "outputs": [],
   "source": [
    "pca = PCA()\n",
    "pca.fit(X_train)\n",
    "cumsum = np.cumsum(pca.explained_variance_ratio_)\n",
    "d = np.argmax(cumsum >= 0.95) + 1\n"
   ]
  },
  {
   "cell_type": "code",
   "execution_count": 17,
   "metadata": {},
   "outputs": [
    {
     "data": {
      "text/plain": [
       "153"
      ]
     },
     "execution_count": 17,
     "metadata": {},
     "output_type": "execute_result"
    }
   ],
   "source": [
    "d"
   ]
  },
  {
   "cell_type": "code",
   "execution_count": 18,
   "metadata": {},
   "outputs": [],
   "source": [
    "pca = PCA(n_components=0.95)\n",
    "X_reduced = pca.fit_transform(X_train)\n",
    "X_recovered = pca.inverse_transform(X_reduced)"
   ]
  },
  {
   "cell_type": "code",
   "execution_count": 19,
   "metadata": {},
   "outputs": [],
   "source": [
    "from sklearn.datasets import load_iris"
   ]
  },
  {
   "cell_type": "code",
   "execution_count": 20,
   "metadata": {},
   "outputs": [
    {
     "data": {
      "text/plain": [
       "array(['setosa', 'versicolor', 'virginica'], dtype='<U10')"
      ]
     },
     "execution_count": 20,
     "metadata": {},
     "output_type": "execute_result"
    }
   ],
   "source": [
    "data = load_iris()\n",
    "X = data.data\n",
    "y = data.target\n",
    "data.target_names"
   ]
  },
  {
   "cell_type": "code",
   "execution_count": 22,
   "metadata": {},
   "outputs": [
    {
     "name": "stderr",
     "output_type": "stream",
     "text": [
      "C:\\Anaconda3\\lib\\site-packages\\matplotlib\\cbook\\deprecation.py:107: MatplotlibDeprecationWarning: Passing one of 'on', 'true', 'off', 'false' as a boolean is deprecated; use an actual boolean (True/False) instead.\n",
      "  warnings.warn(message, mplDeprecation, stacklevel=1)\n"
     ]
    },
    {
     "data": {
      "image/png": "[encoded data removed]",
      "text/plain": [
       "<Figure size 648x252 with 2 Axes>"
      ]
     },
     "metadata": {},
     "output_type": "display_data"
    }
   ],
   "source": [
    "plt.figure(figsize=(9, 3.5))\n",
    "\n",
    "plt.subplot(121)\n",
    "plt.plot(X[y==0,0], X[y==0, 1], \"yo\", label=\"Iris-Setosa\")\n",
    "plt.plot(X[y==1,0], X[y==1, 1], \"bs\", label=\"Iris-Versicolor\")\n",
    "plt.plot(X[y==2,0], X[y==2, 1], \"g^\", label=\"Iris-Virginica\")\n",
    "plt.xlabel(\"Petal length\", fontsize=14)\n",
    "plt.ylabel(\"Petal width\", fontsize=14)\n",
    "\n",
    "plt.subplot(122)\n",
    "plt.scatter(X[:, 0], X[:, 1], c=\"k\", marker=\".\")\n",
    "plt.xlabel(\"Petal legth\", fontsize=14)\n",
    "plt.tick_params(labelleft=\"off\")\n",
    "plt.show()"
   ]
  },
  {
   "cell_type": "code",
   "execution_count": 23,
   "metadata": {},
   "outputs": [],
   "source": [
    "from sklearn.datasets import fetch_mldata\n",
    "mnist = fetch_mldata(\"MNIST original\")"
   ]
  },
  {
   "cell_type": "code",
   "execution_count": 24,
   "metadata": {},
   "outputs": [],
   "source": [
    "X_train = mnist[\"data\"][:60000]\n",
    "y_train = mnist[\"target\"][:60000]\n",
    "\n",
    "X_test = mnist[\"data\"][60000:]\n",
    "y_test = mnist[\"target\"][60000:]"
   ]
  },
  {
   "cell_type": "code",
   "execution_count": 25,
   "metadata": {},
   "outputs": [],
   "source": [
    "from sklearn.ensemble import RandomForestClassifier\n",
    "rnd_clf = RandomForestClassifier(random_state=42)"
   ]
  },
  {
   "cell_type": "code",
   "execution_count": 26,
   "metadata": {},
   "outputs": [],
   "source": [
    "import time\n",
    "t0 = time.time()\n",
    "rnd_clf.fit(X_train, y_train)\n",
    "t1 = time.time()"
   ]
  },
  {
   "cell_type": "code",
   "execution_count": 27,
   "metadata": {},
   "outputs": [
    {
     "name": "stdout",
     "output_type": "stream",
     "text": [
      "Training took 5.21s\n"
     ]
    }
   ],
   "source": [
    "print(\"Training took {:.2f}s\".format(t1-t0))"
   ]
  },
  {
   "cell_type": "code",
   "execution_count": 28,
   "metadata": {},
   "outputs": [],
   "source": [
    "from sklearn.metrics import accuracy_score"
   ]
  },
  {
   "cell_type": "code",
   "execution_count": 31,
   "metadata": {},
   "outputs": [
    {
     "data": {
      "text/plain": [
       "0.9455"
      ]
     },
     "execution_count": 31,
     "metadata": {},
     "output_type": "execute_result"
    }
   ],
   "source": [
    "y_pred = rnd_clf.predict(X_test)\n",
    "accuracy_score(y_test, y_pred)"
   ]
  },
  {
   "cell_type": "code",
   "execution_count": 32,
   "metadata": {},
   "outputs": [],
   "source": [
    "from sklearn.decomposition import PCA"
   ]
  },
  {
   "cell_type": "code",
   "execution_count": 33,
   "metadata": {},
   "outputs": [],
   "source": [
    "pca = PCA(n_components=0.95)\n",
    "X_train_reduced = pca.fit_transform(X_train)"
   ]
  },
  {
   "cell_type": "code",
   "execution_count": 34,
   "metadata": {},
   "outputs": [],
   "source": [
    "rnd_clf2 = RandomForestClassifier(random_state=42)\n",
    "t0 = time.time()\n",
    "rnd_clf2.fit(X_train_reduced, y_train)\n",
    "t1 = time.time()"
   ]
  },
  {
   "cell_type": "code",
   "execution_count": 35,
   "metadata": {},
   "outputs": [
    {
     "name": "stdout",
     "output_type": "stream",
     "text": [
      "Training took 12.64s\n"
     ]
    }
   ],
   "source": [
    "print(\"Training took {:.2f}s\".format(t1-t0))"
   ]
  },
  {
   "cell_type": "code",
   "execution_count": 36,
   "metadata": {},
   "outputs": [
    {
     "data": {
      "text/plain": [
       "0.8908"
      ]
     },
     "execution_count": 36,
     "metadata": {},
     "output_type": "execute_result"
    }
   ],
   "source": [
    "X_test_reduced = pca.transform(X_test)\n",
    "y_pred = rnd_clf2.predict(X_test_reduced)\n",
    "accuracy_score(y_test, y_pred)"
   ]
  },
  {
   "cell_type": "code",
   "execution_count": 37,
   "metadata": {},
   "outputs": [
    {
     "data": {
      "text/plain": [
       "array([0, 0, 0, 0, 0, 0, 0, 0, 0, 0])"
      ]
     },
     "execution_count": 37,
     "metadata": {},
     "output_type": "execute_result"
    }
   ],
   "source": [
    "y[:10]"
   ]
  },
  {
   "cell_type": "code",
   "execution_count": null,
   "metadata": {},
   "outputs": [],
   "source": []
  }
 ],
 "metadata": {
  "kernelspec": {
   "display_name": "Python 3",
   "language": "python",
   "name": "python3"
  },
  "language_info": {
   "codemirror_mode": {
    "name": "ipython",
    "version": 3
   },
   "file_extension": ".py",
   "mimetype": "text/x-python",
   "name": "python",
   "nbconvert_exporter": "python",
   "pygments_lexer": "ipython3",
   "version": "3.6.5"
  }
 },
 "nbformat": 4,
 "nbformat_minor": 2
}
