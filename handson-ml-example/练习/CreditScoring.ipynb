{
 "cells": [
  {
   "cell_type": "code",
   "execution_count": 88,
   "metadata": {},
   "outputs": [],
   "source": [
    "import pandas as pd\n",
    "import matplotlib.pyplot as plt\n",
    "import seaborn as sns\n",
    "import numpy as np\n",
    "import os\n",
    "from sklearn.preprocessing import Normalizer"
   ]
  },
  {
   "cell_type": "code",
   "execution_count": 22,
   "metadata": {},
   "outputs": [],
   "source": [
    "CREDIT_SCORE_PATH = r\"E:\\jupyter-workspace\\datas\""
   ]
  },
  {
   "cell_type": "code",
   "execution_count": 23,
   "metadata": {},
   "outputs": [],
   "source": [
    "credit = pd.read_csv(os.path.join(CREDIT_SCORE_PATH, \"german-beautified.csv\"),sep=\";\")"
   ]
  },
  {
   "cell_type": "code",
   "execution_count": 24,
   "metadata": {},
   "outputs": [
    {
     "name": "stdout",
     "output_type": "stream",
     "text": [
      "<class 'pandas.core.frame.DataFrame'>\n",
      "RangeIndex: 1000 entries, 0 to 999\n",
      "Data columns (total 21 columns):\n",
      "Status of existing checking account                         1000 non-null object\n",
      "Duration in months                                          1000 non-null int64\n",
      "Credit history                                              1000 non-null object\n",
      "Purpose                                                     1000 non-null object\n",
      "Credit amount                                               1000 non-null int64\n",
      "Savings account/bonds                                       1000 non-null object\n",
      "Present employment since                                    1000 non-null object\n",
      "Installment rate in percentage of disposable income         1000 non-null int64\n",
      "Personal status and sex                                     1000 non-null object\n",
      "Other debtors / guarantors                                  1000 non-null object\n",
      "Present residence since                                     1000 non-null int64\n",
      "Property                                                    1000 non-null object\n",
      "Age in years                                                1000 non-null int64\n",
      "Other installment plans                                     1000 non-null object\n",
      "Housing                                                     1000 non-null object\n",
      "Number of existing credits at this bank                     1000 non-null int64\n",
      "Job                                                         1000 non-null object\n",
      "Number of people being liable to provide maintenance for    1000 non-null int64\n",
      "Telephone                                                   1000 non-null object\n",
      "Foreign worker                                              1000 non-null object\n",
      "Score                                                       1000 non-null object\n",
      "dtypes: int64(7), object(14)\n",
      "memory usage: 164.1+ KB\n"
     ]
    }
   ],
   "source": [
    "credit.info()"
   ]
  },
  {
   "cell_type": "code",
   "execution_count": 25,
   "metadata": {},
   "outputs": [
    {
     "data": {
      "text/html": [
       "<div>\n",
       "<style scoped>\n",
       "    .dataframe tbody tr th:only-of-type {\n",
       "        vertical-align: middle;\n",
       "    }\n",
       "\n",
       "    .dataframe tbody tr th {\n",
       "        vertical-align: top;\n",
       "    }\n",
       "\n",
       "    .dataframe thead th {\n",
       "        text-align: right;\n",
       "    }\n",
       "</style>\n",
       "<table border=\"1\" class=\"dataframe\">\n",
       "  <thead>\n",
       "    <tr style=\"text-align: right;\">\n",
       "      <th></th>\n",
       "      <th>Duration in months</th>\n",
       "      <th>Credit amount</th>\n",
       "      <th>Installment rate in percentage of disposable income</th>\n",
       "      <th>Present residence since</th>\n",
       "      <th>Age in years</th>\n",
       "      <th>Number of existing credits at this bank</th>\n",
       "      <th>Number of people being liable to provide maintenance for</th>\n",
       "    </tr>\n",
       "  </thead>\n",
       "  <tbody>\n",
       "    <tr>\n",
       "      <th>count</th>\n",
       "      <td>1000.000000</td>\n",
       "      <td>1000.000000</td>\n",
       "      <td>1000.000000</td>\n",
       "      <td>1000.000000</td>\n",
       "      <td>1000.000000</td>\n",
       "      <td>1000.000000</td>\n",
       "      <td>1000.000000</td>\n",
       "    </tr>\n",
       "    <tr>\n",
       "      <th>mean</th>\n",
       "      <td>20.903000</td>\n",
       "      <td>3271.258000</td>\n",
       "      <td>2.973000</td>\n",
       "      <td>2.845000</td>\n",
       "      <td>35.546000</td>\n",
       "      <td>1.407000</td>\n",
       "      <td>1.155000</td>\n",
       "    </tr>\n",
       "    <tr>\n",
       "      <th>std</th>\n",
       "      <td>12.058814</td>\n",
       "      <td>2822.736876</td>\n",
       "      <td>1.118715</td>\n",
       "      <td>1.103718</td>\n",
       "      <td>11.375469</td>\n",
       "      <td>0.577654</td>\n",
       "      <td>0.362086</td>\n",
       "    </tr>\n",
       "    <tr>\n",
       "      <th>min</th>\n",
       "      <td>4.000000</td>\n",
       "      <td>250.000000</td>\n",
       "      <td>1.000000</td>\n",
       "      <td>1.000000</td>\n",
       "      <td>19.000000</td>\n",
       "      <td>1.000000</td>\n",
       "      <td>1.000000</td>\n",
       "    </tr>\n",
       "    <tr>\n",
       "      <th>25%</th>\n",
       "      <td>12.000000</td>\n",
       "      <td>1365.500000</td>\n",
       "      <td>2.000000</td>\n",
       "      <td>2.000000</td>\n",
       "      <td>27.000000</td>\n",
       "      <td>1.000000</td>\n",
       "      <td>1.000000</td>\n",
       "    </tr>\n",
       "    <tr>\n",
       "      <th>50%</th>\n",
       "      <td>18.000000</td>\n",
       "      <td>2319.500000</td>\n",
       "      <td>3.000000</td>\n",
       "      <td>3.000000</td>\n",
       "      <td>33.000000</td>\n",
       "      <td>1.000000</td>\n",
       "      <td>1.000000</td>\n",
       "    </tr>\n",
       "    <tr>\n",
       "      <th>75%</th>\n",
       "      <td>24.000000</td>\n",
       "      <td>3972.250000</td>\n",
       "      <td>4.000000</td>\n",
       "      <td>4.000000</td>\n",
       "      <td>42.000000</td>\n",
       "      <td>2.000000</td>\n",
       "      <td>1.000000</td>\n",
       "    </tr>\n",
       "    <tr>\n",
       "      <th>max</th>\n",
       "      <td>72.000000</td>\n",
       "      <td>18424.000000</td>\n",
       "      <td>4.000000</td>\n",
       "      <td>4.000000</td>\n",
       "      <td>75.000000</td>\n",
       "      <td>4.000000</td>\n",
       "      <td>2.000000</td>\n",
       "    </tr>\n",
       "  </tbody>\n",
       "</table>\n",
       "</div>"
      ],
      "text/plain": [
       "       Duration in months  Credit amount  \\\n",
       "count         1000.000000    1000.000000   \n",
       "mean            20.903000    3271.258000   \n",
       "std             12.058814    2822.736876   \n",
       "min              4.000000     250.000000   \n",
       "25%             12.000000    1365.500000   \n",
       "50%             18.000000    2319.500000   \n",
       "75%             24.000000    3972.250000   \n",
       "max             72.000000   18424.000000   \n",
       "\n",
       "       Installment rate in percentage of disposable income  \\\n",
       "count                                        1000.000000     \n",
       "mean                                            2.973000     \n",
       "std                                             1.118715     \n",
       "min                                             1.000000     \n",
       "25%                                             2.000000     \n",
       "50%                                             3.000000     \n",
       "75%                                             4.000000     \n",
       "max                                             4.000000     \n",
       "\n",
       "       Present residence since  Age in years  \\\n",
       "count              1000.000000   1000.000000   \n",
       "mean                  2.845000     35.546000   \n",
       "std                   1.103718     11.375469   \n",
       "min                   1.000000     19.000000   \n",
       "25%                   2.000000     27.000000   \n",
       "50%                   3.000000     33.000000   \n",
       "75%                   4.000000     42.000000   \n",
       "max                   4.000000     75.000000   \n",
       "\n",
       "       Number of existing credits at this bank  \\\n",
       "count                              1000.000000   \n",
       "mean                                  1.407000   \n",
       "std                                   0.577654   \n",
       "min                                   1.000000   \n",
       "25%                                   1.000000   \n",
       "50%                                   1.000000   \n",
       "75%                                   2.000000   \n",
       "max                                   4.000000   \n",
       "\n",
       "       Number of people being liable to provide maintenance for  \n",
       "count                                        1000.000000         \n",
       "mean                                            1.155000         \n",
       "std                                             0.362086         \n",
       "min                                             1.000000         \n",
       "25%                                             1.000000         \n",
       "50%                                             1.000000         \n",
       "75%                                             1.000000         \n",
       "max                                             2.000000         "
      ]
     },
     "execution_count": 25,
     "metadata": {},
     "output_type": "execute_result"
    }
   ],
   "source": [
    "credit.describe()"
   ]
  },
  {
   "cell_type": "code",
   "execution_count": 26,
   "metadata": {},
   "outputs": [
    {
     "data": {
      "text/plain": [
       "No checking account    394\n",
       "Negative               274\n",
       "0 - 200                269\n",
       "Over 200                63\n",
       "Name: Status of existing checking account, dtype: int64"
      ]
     },
     "execution_count": 26,
     "metadata": {},
     "output_type": "execute_result"
    }
   ],
   "source": [
    "credit[\"Status of existing checking account\"].value_counts()"
   ]
  },
  {
   "cell_type": "code",
   "execution_count": 27,
   "metadata": {},
   "outputs": [],
   "source": [
    "cat_attribs = [\"Status of existing checking account\", \"Credit history\", \"Purpose\", \n",
    "              \"Savings account/bonds\", \"Present employment since\", \"Personal status and sex\",\n",
    "              \"Other debtors / guarantors\", \"Property\", \"Other installment plans\", \n",
    "              \"Housing\", \"Job\", \"Telephone\", \"Foreign worker\"]\n",
    "num_attribs = [\"Duration in months\", \"Credit amount\", \"Installment rate in percentage of disposable income\", \"Present residence since\",\n",
    "              \"Age in years\", \"Number of existing credits at this bank\", \"Number of people being liable to provide maintenance for\"]"
   ]
  },
  {
   "cell_type": "code",
   "execution_count": 28,
   "metadata": {
    "scrolled": true
   },
   "outputs": [
    {
     "name": "stdout",
     "output_type": "stream",
     "text": [
      "Status of existing checking account\n",
      "No checking account    394\n",
      "Negative               274\n",
      "0 - 200                269\n",
      "Over 200                63\n",
      "Name: Status of existing checking account, dtype: int64\n",
      "\n",
      "Credit history\n",
      "existing credits paid back duly till now                       530\n",
      "critical account/ other credits existing (not at this bank)    293\n",
      "delay in paying off in the past                                 88\n",
      "all credits at this bank paid back duly                         49\n",
      "no credits taken / all credits paid back duly                   40\n",
      "Name: Credit history, dtype: int64\n",
      "\n",
      "Purpose\n",
      "radio/television       280\n",
      "car (new)              234\n",
      "furniture/equipment    181\n",
      "car (used)             103\n",
      "business                97\n",
      "education               50\n",
      "repairs                 22\n",
      "domestic appliances     12\n",
      "others                  12\n",
      "retraining               9\n",
      "Name: Purpose, dtype: int64\n",
      "\n",
      "Savings account/bonds\n",
      "less than 100                   603\n",
      "unknown / no savings account    183\n",
      "100 to 500                      103\n",
      "500 to 1000                      63\n",
      "more than 1000                   48\n",
      "Name: Savings account/bonds, dtype: int64\n",
      "\n",
      "Present employment since\n",
      "1 to 4 years         339\n",
      "more than 7 years    253\n",
      "4 to 7 years         174\n",
      "less than 1 year     172\n",
      "Unemployed            62\n",
      "Name: Present employment since, dtype: int64\n",
      "\n",
      "Personal status and sex\n",
      "male (single)                          548\n",
      "female (divorced/separated/married)    310\n",
      "male (married/widowed)                  92\n",
      "male (divorced/separated)               50\n",
      "Name: Personal status and sex, dtype: int64\n",
      "\n",
      "Other debtors / guarantors\n",
      "none            907\n",
      "guarantor        52\n",
      "co-Applicant     41\n",
      "Name: Other debtors / guarantors, dtype: int64\n",
      "\n",
      "Property\n",
      "car or other                                          332\n",
      "real estate                                           282\n",
      "building society savings agreement/ life insurance    232\n",
      "unknown / no property                                 154\n",
      "Name: Property, dtype: int64\n",
      "\n",
      "Other installment plans\n",
      "none      814\n",
      "bank      139\n",
      "stores     47\n",
      "Name: Other installment plans, dtype: int64\n",
      "\n",
      "Housing\n",
      "own         713\n",
      "rent        179\n",
      "for free    108\n",
      "Name: Housing, dtype: int64\n",
      "\n",
      "Job\n",
      "skilled employee / official                                         630\n",
      "unskilled - resident                                                200\n",
      "management / self-employed / highly qualified employee / officer    148\n",
      "unemployed / unskilled - non-resident                                22\n",
      "Name: Job, dtype: int64\n",
      "\n",
      "Telephone\n",
      "none                                        596\n",
      "yes, registered under the customers name    404\n",
      "Name: Telephone, dtype: int64\n",
      "\n",
      "Foreign worker\n",
      "Yes    963\n",
      "No      37\n",
      "Name: Foreign worker, dtype: int64\n",
      "\n"
     ]
    }
   ],
   "source": [
    "for cat_attrib in cat_attribs:\n",
    "    print(cat_attrib)\n",
    "    print(credit[cat_attrib].value_counts())\n",
    "    print()"
   ]
  },
  {
   "cell_type": "code",
   "execution_count": 29,
   "metadata": {},
   "outputs": [
    {
     "data": {
      "text/plain": [
       "array([[<matplotlib.axes._subplots.AxesSubplot object at 0x000001C7C2EE9240>,\n",
       "        <matplotlib.axes._subplots.AxesSubplot object at 0x000001C7C2F04550>,\n",
       "        <matplotlib.axes._subplots.AxesSubplot object at 0x000001C7C2F24860>],\n",
       "       [<matplotlib.axes._subplots.AxesSubplot object at 0x000001C7C2F49B70>,\n",
       "        <matplotlib.axes._subplots.AxesSubplot object at 0x000001C7C2F74E80>,\n",
       "        <matplotlib.axes._subplots.AxesSubplot object at 0x000001C7C2F74EB8>],\n",
       "       [<matplotlib.axes._subplots.AxesSubplot object at 0x000001C7C2FCF4E0>,\n",
       "        <matplotlib.axes._subplots.AxesSubplot object at 0x000001C7C2FF77F0>,\n",
       "        <matplotlib.axes._subplots.AxesSubplot object at 0x000001C7C3021B00>]],\n",
       "      dtype=object)"
      ]
     },
     "execution_count": 29,
     "metadata": {},
     "output_type": "execute_result"
    },
    {
     "data": {
      "image/png": "[encoded data removed]",
      "text/plain": [
       "<Figure size 1440x1080 with 9 Axes>"
      ]
     },
     "metadata": {},
     "output_type": "display_data"
    }
   ],
   "source": [
    "%matplotlib inline\n",
    "credit.hist(bins=50, figsize=(20,15))"
   ]
  },
  {
   "cell_type": "code",
   "execution_count": 33,
   "metadata": {},
   "outputs": [],
   "source": [
    "from sklearn.base import BaseEstimator, TransformerMixin\n",
    "from sklearn.preprocessing import LabelBinarizer\n",
    "class MyLabelBinarizer(BaseEstimator, TransformerMixin):\n",
    "\n",
    "    def __init__(self, attribute_names) -> None:\n",
    "        self.attribute_names = attribute_names\n",
    "        self.feature_names = []\n",
    "\n",
    "    def fit(self, X, y=None):\n",
    "        return self\n",
    "\n",
    "    def transform(self, X, y=None):\n",
    "        label_binarizer = LabelBinarizer()\n",
    "\n",
    "        if len(X.shape) == 1:\n",
    "            row_c, = X.shape\n",
    "            column_c = 1\n",
    "        else:\n",
    "            row_c, column_c = X.shape\n",
    "        \n",
    "        feature_fix = None\n",
    "\n",
    "        for column in range(column_c):\n",
    "            ret = label_binarizer.fit_transform(X[:, column])\n",
    "            if feature_fix is None:\n",
    "                feature_fix = ret\n",
    "            else:\n",
    "                feature_fix = np.concatenate((feature_fix, ret), axis=1)\n",
    "            attribute_name = self.attribute_names[column]\n",
    "            if label_binarizer.y_type_ == \"binary\":\n",
    "                self.feature_names.append(attribute_name)\n",
    "            else:\n",
    "                for clz in label_binarizer.classes_:\n",
    "                    self.feature_names.append(\"%s_%s\" % (attribute_name, clz))\n",
    "        return feature_fix\n",
    "\n",
    "class DataFrameSelector(BaseEstimator, TransformerMixin):\n",
    "\n",
    "    def __init__(self, attribute_names) -> None:\n",
    "        self.attribute_names = attribute_names\n",
    "\n",
    "    def fit(self, X, y=None):\n",
    "        return self\n",
    "\n",
    "    def transform(self, X, y=None, **fit_params):\n",
    "        return X[self.attribute_names].values"
   ]
  },
  {
   "cell_type": "code",
   "execution_count": 34,
   "metadata": {},
   "outputs": [],
   "source": [
    "from sklearn.pipeline import Pipeline\n",
    "from sklearn.pipeline import FeatureUnion"
   ]
  },
  {
   "cell_type": "code",
   "execution_count": 35,
   "metadata": {},
   "outputs": [],
   "source": [
    "Y = MyLabelBinarizer([\"Score\"]).fit_transform(credit[\"Score\"].values.reshape(-1,1))\n",
    "cat_pipeline = Pipeline([(\"selector\", DataFrameSelector(cat_attribs)),(\"binarizer\", MyLabelBinarizer(cat_attribs))])\n",
    "num_pipeline = Pipeline([(\"selector\", DataFrameSelector(num_attribs))])\n",
    "\n",
    "full_pipeline = FeatureUnion(transformer_list=[(\"num_pipeline\", num_pipeline), (\"cat_pipeline\", cat_pipeline)])\n",
    "\n",
    "X = full_pipeline.fit_transform(credit)\n",
    "all_feature = []\n",
    "all_feature.extend(num_attribs)\n",
    "all_feature.extend(cat_pipeline.named_steps[\"binarizer\"].feature_names)"
   ]
  },
  {
   "cell_type": "code",
   "execution_count": 37,
   "metadata": {},
   "outputs": [
    {
     "data": {
      "text/plain": [
       "DecisionTreeClassifier(class_weight=None, criterion='gini', max_depth=None,\n",
       "            max_features=None, max_leaf_nodes=None,\n",
       "            min_impurity_decrease=0.0, min_impurity_split=None,\n",
       "            min_samples_leaf=1, min_samples_split=2,\n",
       "            min_weight_fraction_leaf=0.0, presort=False, random_state=None,\n",
       "            splitter='best')"
      ]
     },
     "execution_count": 37,
     "metadata": {},
     "output_type": "execute_result"
    }
   ],
   "source": [
    "from sklearn.tree import DecisionTreeClassifier\n",
    "tree_clz = DecisionTreeClassifier()\n",
    "tree_clz.fit(X, Y)"
   ]
  },
  {
   "cell_type": "code",
   "execution_count": 38,
   "metadata": {},
   "outputs": [],
   "source": [
    "from sklearn.metrics import accuracy_score"
   ]
  },
  {
   "cell_type": "code",
   "execution_count": 39,
   "metadata": {},
   "outputs": [
    {
     "data": {
      "text/plain": [
       "1.0"
      ]
     },
     "execution_count": 39,
     "metadata": {},
     "output_type": "execute_result"
    }
   ],
   "source": [
    "y_pred = tree_clz.predict(X)\n",
    "accuracy_score(Y, y_pred)"
   ]
  },
  {
   "cell_type": "code",
   "execution_count": 40,
   "metadata": {},
   "outputs": [
    {
     "name": "stdout",
     "output_type": "stream",
     "text": [
      "1.0\n",
      "[0 1]\n",
      "[0.12165307 0.12347974 0.02473507 0.03111915 0.07846922 0.01264052\n",
      " 0.         0.00555556 0.0103205  0.10396478 0.00956088 0.02346769\n",
      " 0.00643885 0.00708996 0.0144844  0.00998516 0.00170068 0.03936018\n",
      " 0.02617151 0.         0.02443981 0.01198281 0.00357143 0.00883987\n",
      " 0.0017379  0.0043956  0.00529762 0.00913228 0.01556452 0.00610501\n",
      " 0.00357143 0.00790559 0.0166533  0.01920564 0.02372105 0.01195887\n",
      " 0.00238095 0.00194581 0.00600907 0.0031746  0.00877296 0.\n",
      " 0.00650429 0.00420088 0.03001562 0.01427126 0.         0.00918367\n",
      " 0.01180551 0.         0.00398382 0.01210615 0.00931257 0.\n",
      " 0.00964066 0.         0.00911977 0.02526351 0.00802927]\n",
      "59\n",
      "59\n"
     ]
    }
   ],
   "source": [
    "print(tree_clz.score(X, Y))\n",
    "print(tree_clz.classes_)\n",
    "print(tree_clz.feature_importances_)\n",
    "print(len(tree_clz.feature_importances_))\n",
    "print(len(all_feature))"
   ]
  },
  {
   "cell_type": "code",
   "execution_count": 41,
   "metadata": {},
   "outputs": [],
   "source": [
    "feature_importances = pd.Series(tree_clz.feature_importances_, index=all_feature)"
   ]
  },
  {
   "cell_type": "code",
   "execution_count": 42,
   "metadata": {},
   "outputs": [
    {
     "data": {
      "text/plain": [
       "Credit amount                                                                 0.123480\n",
       "Duration in months                                                            0.121653\n",
       "Status of existing checking account_No checking account                       0.103965\n",
       "Age in years                                                                  0.078469\n",
       "Purpose_car (new)                                                             0.039360\n",
       "Present residence since                                                       0.031119\n",
       "Property_car or other                                                         0.030016\n",
       "Purpose_car (used)                                                            0.026172\n",
       "Telephone                                                                     0.025264\n",
       "Installment rate in percentage of disposable income                           0.024735\n",
       "Purpose_education                                                             0.024440\n",
       "Present employment since_less than 1 year                                     0.023721\n",
       "Credit history_all credits at this bank paid back duly                        0.023468\n",
       "Present employment since_Unemployed                                           0.019206\n",
       "Present employment since_4 to 7 years                                         0.016653\n",
       "Savings account/bonds_less than 100                                           0.015565\n",
       "Credit history_existing credits paid back duly till now                       0.014484\n",
       "Property_real estate                                                          0.014271\n",
       "Number of existing credits at this bank                                       0.012641\n",
       "Housing_own                                                                   0.012106\n",
       "Purpose_furniture/equipment                                                   0.011983\n",
       "Present employment since_more than 7 years                                    0.011959\n",
       "Other installment plans_none                                                  0.011806\n",
       "Status of existing checking account_Negative                                  0.010320\n",
       "Credit history_no credits taken / all credits paid back duly                  0.009985\n",
       "Job_skilled employee / official                                               0.009641\n",
       "Status of existing checking account_Over 200                                  0.009561\n",
       "Housing_rent                                                                  0.009313\n",
       "Other installment plans_bank                                                  0.009184\n",
       "Savings account/bonds_500 to 1000                                             0.009132\n",
       "Job_unskilled - resident                                                      0.009120\n",
       "Purpose_radio/television                                                      0.008840\n",
       "Other debtors / guarantors_co-Applicant                                       0.008773\n",
       "Foreign worker                                                                0.008029\n",
       "Present employment since_1 to 4 years                                         0.007906\n",
       "Credit history_delay in paying off in the past                                0.007090\n",
       "Other debtors / guarantors_none                                               0.006504\n",
       "Credit history_critical account/ other credits existing (not at this bank)    0.006439\n",
       "Savings account/bonds_more than 1000                                          0.006105\n",
       "Personal status and sex_male (married/widowed)                                0.006009\n",
       "Status of existing checking account_0 - 200                                   0.005556\n",
       "Savings account/bonds_100 to 500                                              0.005298\n",
       "Purpose_retraining                                                            0.004396\n",
       "Property_building society savings agreement/ life insurance                   0.004201\n",
       "Housing_for free                                                              0.003984\n",
       "Purpose_others                                                                0.003571\n",
       "Savings account/bonds_unknown / no savings account                            0.003571\n",
       "Personal status and sex_male (single)                                         0.003175\n",
       "Personal status and sex_female (divorced/separated/married)                   0.002381\n",
       "Personal status and sex_male (divorced/separated)                             0.001946\n",
       "Purpose_repairs                                                               0.001738\n",
       "Purpose_business                                                              0.001701\n",
       "Other debtors / guarantors_guarantor                                          0.000000\n",
       "Number of people being liable to provide maintenance for                      0.000000\n",
       "Property_unknown / no property                                                0.000000\n",
       "Other installment plans_stores                                                0.000000\n",
       "Job_management / self-employed / highly qualified employee / officer          0.000000\n",
       "Job_unemployed / unskilled - non-resident                                     0.000000\n",
       "Purpose_domestic appliances                                                   0.000000\n",
       "dtype: float64"
      ]
     },
     "execution_count": 42,
     "metadata": {},
     "output_type": "execute_result"
    }
   ],
   "source": [
    "feature_importances.sort_values(ascending=False)"
   ]
  },
  {
   "cell_type": "code",
   "execution_count": 43,
   "metadata": {},
   "outputs": [],
   "source": [
    "from pandas.plotting import scatter_matrix"
   ]
  },
  {
   "cell_type": "code",
   "execution_count": 44,
   "metadata": {},
   "outputs": [],
   "source": [
    "all_feature.append(\"Score\")\n"
   ]
  },
  {
   "cell_type": "code",
   "execution_count": 45,
   "metadata": {},
   "outputs": [],
   "source": [
    "credit_fix = pd.DataFrame(np.concatenate([X,Y], axis=1), columns=all_feature)"
   ]
  },
  {
   "cell_type": "code",
   "execution_count": 46,
   "metadata": {},
   "outputs": [
    {
     "ename": "TypeError",
     "evalue": "heatmap() missing 1 required positional argument: 'data'",
     "output_type": "error",
     "traceback": [
      "\u001b[1;31m---------------------------------------------------------------------------\u001b[0m",
      "\u001b[1;31mTypeError\u001b[0m                                 Traceback (most recent call last)",
      "\u001b[1;32m<ipython-input-46-41226c95812c>\u001b[0m in \u001b[0;36m<module>\u001b[1;34m()\u001b[0m\n\u001b[1;32m----> 1\u001b[1;33m \u001b[0msns\u001b[0m\u001b[1;33m.\u001b[0m\u001b[0mheatmap\u001b[0m\u001b[1;33m(\u001b[0m\u001b[1;33m)\u001b[0m\u001b[1;33m\u001b[0m\u001b[0m\n\u001b[0m",
      "\u001b[1;31mTypeError\u001b[0m: heatmap() missing 1 required positional argument: 'data'"
     ]
    }
   ],
   "source": []
  },
  {
   "cell_type": "code",
   "execution_count": null,
   "metadata": {},
   "outputs": [],
   "source": [
    "corr_metrix = credit_fix.corr()"
   ]
  },
  {
   "cell_type": "code",
   "execution_count": null,
   "metadata": {},
   "outputs": [],
   "source": [
    "corr_metrix = corr_metrix.nlargest(10,\"Score\")"
   ]
  },
  {
   "cell_type": "code",
   "execution_count": null,
   "metadata": {},
   "outputs": [],
   "source": [
    "%matplotlib inline\n",
    "plt.rcParams[\"ytick.labelsize\"] = 14\n",
    "plt.rcParams[\"xtick.labelsize\"] = 14\n",
    "columns = corr_metrix[\"Score\"].index\n",
    "plt.figure(figsize=(20,15))\n",
    "sns.heatmap(corr_metrix[columns], annot=True, cbar=True,xticklabels=columns, yticklabels=columns,fmt=\".2f\", square=True, )\n"
   ]
  },
  {
   "cell_type": "code",
   "execution_count": null,
   "metadata": {},
   "outputs": [],
   "source": [
    "X.shape"
   ]
  },
  {
   "cell_type": "code",
   "execution_count": null,
   "metadata": {},
   "outputs": [],
   "source": [
    "Y.shape"
   ]
  },
  {
   "cell_type": "code",
   "execution_count": null,
   "metadata": {},
   "outputs": [],
   "source": [
    "from sklearn.model_selection import cross_val_score"
   ]
  },
  {
   "cell_type": "code",
   "execution_count": null,
   "metadata": {},
   "outputs": [],
   "source": [
    "score = cross_val_score(tree_clz, X, Y, scoring=\"accuracy\", n_jobs=4,cv=10,verbose=5)\n",
    "score"
   ]
  },
  {
   "cell_type": "code",
   "execution_count": null,
   "metadata": {},
   "outputs": [],
   "source": [
    "np.sum(np.array([[1,2,3],[4,5,6]]),axis=0)"
   ]
  },
  {
   "cell_type": "code",
   "execution_count": null,
   "metadata": {},
   "outputs": [],
   "source": [
    "np.concatenate([np.array([[1],[2]]), np.array([[3],[4]])],axis=1)"
   ]
  },
  {
   "cell_type": "code",
   "execution_count": 53,
   "metadata": {},
   "outputs": [],
   "source": [
    "from sklearn.preprocessing import LabelEncoder\n",
    "from sklearn.preprocessing import MultiLabelBinarizer"
   ]
  },
  {
   "cell_type": "code",
   "execution_count": 56,
   "metadata": {},
   "outputs": [
    {
     "data": {
      "text/plain": [
       "array([[1, 1, 1, 0, 0, 0],\n",
       "       [0, 0, 0, 1, 1, 1]])"
      ]
     },
     "execution_count": 56,
     "metadata": {},
     "output_type": "execute_result"
    }
   ],
   "source": [
    "mlb = MultiLabelBinarizer()\n",
    "mlb.fit_transform(np.array([[\"a\",\"b\",\"c\"],[\"d\",\"e\",\"f\"]]))"
   ]
  },
  {
   "cell_type": "code",
   "execution_count": 69,
   "metadata": {},
   "outputs": [
    {
     "data": {
      "text/plain": [
       "array([[['Negative',\n",
       "         'critical account/ other credits existing (not at this bank)']],\n",
       "\n",
       "       [['0 - 200', 'existing credits paid back duly till now']],\n",
       "\n",
       "       [['No checking account',\n",
       "         'critical account/ other credits existing (not at this bank)']],\n",
       "\n",
       "       ...,\n",
       "\n",
       "       [['No checking account',\n",
       "         'existing credits paid back duly till now']],\n",
       "\n",
       "       [['Negative', 'existing credits paid back duly till now']],\n",
       "\n",
       "       [['0 - 200',\n",
       "         'critical account/ other credits existing (not at this bank)']]],\n",
       "      dtype=object)"
      ]
     },
     "execution_count": 69,
     "metadata": {},
     "output_type": "execute_result"
    }
   ],
   "source": [
    "np.expand_dims(credit.iloc[:,[0,2]].values,axis=1)"
   ]
  },
  {
   "cell_type": "code",
   "execution_count": 66,
   "metadata": {},
   "outputs": [
    {
     "name": "stderr",
     "output_type": "stream",
     "text": [
      "C:\\Anaconda3\\lib\\site-packages\\sklearn\\preprocessing\\label.py:111: DataConversionWarning: A column-vector y was passed when a 1d array was expected. Please change the shape of y to (n_samples, ), for example using ravel().\n",
      "  y = column_or_1d(y, warn=True)\n"
     ]
    },
    {
     "data": {
      "text/plain": [
       "array([1, 0, 2, 1, 1, 2, 2, 0, 2, 0, 0, 1, 0, 1, 1, 1, 2, 1, 0, 2, 2, 1,\n",
       "       1, 0, 2, 1, 2, 3, 0, 1, 0, 1, 0, 2, 3, 0, 2, 3, 3, 0, 2, 0, 0, 1,\n",
       "       1, 2, 2, 1, 2, 2, 0, 0, 2, 2, 0, 2, 0, 2, 3, 1, 0, 0, 0, 0, 2, 2,\n",
       "       2, 0, 2, 2, 2, 2, 1, 0, 1, 1, 1, 0, 2, 0, 2, 2, 2, 1, 1, 2, 0, 0,\n",
       "       1, 1, 2, 1, 2, 3, 0, 0, 2, 0, 0, 0, 2, 0, 2, 0, 2, 0, 2, 0, 1, 0,\n",
       "       0, 3, 0, 2, 1, 2, 1, 1, 1, 0, 1, 2, 2, 3, 0, 1, 1, 0, 0, 1, 0, 1,\n",
       "       2, 2, 2, 2, 2, 0, 0, 3, 3, 0, 1, 1, 2, 0, 1, 2, 1, 2, 2, 2, 3, 0,\n",
       "       0, 1, 1, 1, 0, 2, 2, 2, 2, 0, 2, 2, 1, 0, 2, 0, 1, 2, 0, 0, 1, 2,\n",
       "       1, 1, 2, 1, 2, 0, 1, 2, 0, 2, 0, 0, 1, 0, 2, 0, 0, 2, 0, 0, 2, 0,\n",
       "       0, 0, 2, 1, 2, 1, 2, 1, 2, 0, 1, 2, 2, 2, 1, 3, 2, 0, 1, 3, 1, 2,\n",
       "       0, 1, 2, 2, 2, 2, 0, 1, 2, 1, 3, 2, 2, 0, 2, 1, 0, 0, 2, 1, 1, 2,\n",
       "       1, 2, 2, 2, 2, 2, 3, 2, 1, 3, 0, 2, 0, 0, 2, 1, 2, 2, 1, 1, 1, 2,\n",
       "       2, 0, 2, 2, 1, 2, 2, 2, 0, 0, 1, 2, 2, 1, 2, 2, 2, 2, 3, 2, 0, 1,\n",
       "       1, 0, 0, 1, 2, 0, 1, 3, 2, 0, 2, 2, 2, 0, 2, 0, 3, 1, 2, 2, 2, 1,\n",
       "       0, 0, 0, 2, 3, 0, 3, 1, 1, 0, 2, 1, 0, 1, 1, 1, 2, 1, 2, 2, 3, 0,\n",
       "       1, 2, 0, 2, 1, 1, 0, 1, 1, 0, 0, 1, 0, 0, 3, 2, 0, 0, 2, 0, 2, 0,\n",
       "       2, 1, 2, 0, 2, 2, 2, 1, 0, 3, 3, 2, 1, 2, 2, 1, 1, 0, 2, 2, 2, 2,\n",
       "       0, 1, 2, 2, 0, 2, 1, 0, 2, 3, 2, 2, 2, 0, 0, 2, 2, 0, 1, 1, 2, 0,\n",
       "       1, 1, 0, 2, 2, 0, 2, 2, 0, 0, 2, 1, 2, 3, 0, 2, 2, 2, 1, 2, 1, 1,\n",
       "       2, 0, 2, 0, 0, 2, 0, 0, 2, 2, 2, 1, 2, 0, 1, 2, 1, 0, 2, 2, 1, 3,\n",
       "       2, 1, 0, 2, 0, 2, 1, 0, 3, 0, 2, 2, 2, 2, 1, 2, 1, 1, 1, 2, 1, 1,\n",
       "       0, 0, 2, 1, 1, 2, 2, 2, 0, 1, 1, 2, 0, 1, 2, 3, 0, 1, 0, 0, 1, 2,\n",
       "       2, 0, 2, 2, 2, 2, 2, 0, 2, 0, 1, 1, 0, 2, 0, 3, 1, 1, 3, 0, 1, 2,\n",
       "       3, 0, 2, 2, 1, 2, 3, 0, 2, 1, 1, 2, 1, 2, 2, 1, 1, 2, 0, 0, 2, 2,\n",
       "       1, 1, 0, 0, 2, 2, 2, 3, 1, 0, 1, 3, 0, 2, 1, 3, 2, 1, 2, 2, 1, 2,\n",
       "       2, 2, 1, 0, 0, 0, 0, 2, 1, 0, 1, 1, 3, 0, 0, 0, 1, 2, 0, 1, 1, 2,\n",
       "       2, 1, 0, 2, 0, 2, 0, 2, 0, 0, 2, 0, 2, 1, 1, 1, 1, 1, 1, 0, 2, 0,\n",
       "       1, 0, 1, 0, 2, 2, 0, 0, 0, 2, 3, 1, 2, 0, 2, 2, 1, 3, 1, 1, 2, 0,\n",
       "       0, 1, 0, 2, 0, 2, 2, 1, 1, 2, 3, 0, 2, 2, 1, 1, 0, 2, 0, 2, 2, 2,\n",
       "       2, 1, 1, 0, 2, 2, 1, 2, 1, 2, 3, 1, 1, 0, 1, 0, 2, 1, 0, 2, 0, 0,\n",
       "       3, 1, 2, 0, 3, 2, 0, 2, 1, 3, 2, 2, 2, 2, 2, 2, 2, 0, 1, 2, 2, 2,\n",
       "       2, 2, 0, 2, 3, 0, 2, 1, 1, 0, 0, 1, 2, 2, 0, 2, 2, 3, 2, 1, 3, 0,\n",
       "       0, 2, 0, 0, 0, 0, 2, 1, 2, 1, 0, 2, 2, 2, 3, 0, 3, 0, 1, 0, 2, 2,\n",
       "       2, 1, 0, 3, 0, 1, 0, 2, 2, 0, 0, 1, 2, 0, 1, 0, 2, 1, 1, 1, 1, 1,\n",
       "       2, 2, 1, 1, 0, 2, 2, 1, 3, 3, 2, 1, 2, 1, 1, 2, 2, 0, 1, 2, 0, 2,\n",
       "       1, 1, 2, 2, 3, 1, 2, 1, 2, 0, 0, 2, 0, 0, 0, 0, 2, 2, 0, 1, 0, 2,\n",
       "       2, 3, 2, 2, 1, 2, 2, 0, 2, 0, 1, 2, 0, 1, 0, 2, 0, 0, 0, 0, 1, 1,\n",
       "       1, 0, 2, 2, 1, 1, 2, 3, 1, 1, 2, 1, 1, 2, 1, 0, 2, 1, 1, 0, 3, 1,\n",
       "       2, 2, 1, 2, 1, 2, 2, 2, 2, 0, 2, 2, 1, 1, 1, 2, 2, 1, 2, 2, 2, 2,\n",
       "       1, 2, 2, 2, 1, 2, 2, 2, 1, 2, 2, 1, 2, 3, 1, 2, 1, 0, 1, 2, 1, 2,\n",
       "       2, 2, 0, 2, 0, 1, 0, 0, 2, 2, 1, 2, 1, 0, 2, 2, 1, 2, 2, 1, 1, 2,\n",
       "       2, 2, 2, 1, 1, 0, 2, 0, 2, 0, 0, 2, 1, 0, 2, 1, 1, 1, 2, 2, 1, 0,\n",
       "       1, 1, 1, 1, 2, 1, 1, 0, 2, 2, 1, 0, 3, 0, 0, 2, 2, 2, 2, 2, 1, 0,\n",
       "       1, 2, 2, 2, 0, 1, 0, 2, 1, 1, 3, 0, 1, 0, 2, 0, 2, 2, 0, 0, 0, 2,\n",
       "       2, 1, 0, 2, 1, 1, 2, 3, 0, 0, 2, 0, 0, 2, 3, 1, 2, 1, 3, 2, 1, 0,\n",
       "       2, 2, 1, 1, 2, 2, 1, 2, 1, 0], dtype=int64)"
      ]
     },
     "execution_count": 66,
     "metadata": {},
     "output_type": "execute_result"
    }
   ],
   "source": [
    "le = LabelEncoder()\n",
    "le.fit_transform(np.expand_dims(credit.iloc[:,0].values,axis=1))"
   ]
  },
  {
   "cell_type": "code",
   "execution_count": 74,
   "metadata": {},
   "outputs": [],
   "source": [
    "class MyLabelEncoder(BaseEstimator, TransformerMixin):\n",
    "\n",
    "    def __init__(self) -> None:\n",
    "        super().__init__()\n",
    "\n",
    "    def fit(self, X, y=None):\n",
    "        return self\n",
    "\n",
    "    def transform(self, X, y=None):\n",
    "        le = LabelEncoder()\n",
    "        if len(X.shape) == 1:\n",
    "            X = np.expand_dims(X, axis=1)\n",
    "        rows, columns = X.shape\n",
    "\n",
    "        f = None\n",
    "        for i in range(columns):\n",
    "            encoder_r = np.expand_dims(le.fit_transform(X[:, i]), axis=1)\n",
    "            if f is None:\n",
    "                f = encoder_r\n",
    "            else:\n",
    "                f = np.concatenate([f, encoder_r], axis=1)\n",
    "        return f"
   ]
  },
  {
   "cell_type": "code",
   "execution_count": 76,
   "metadata": {},
   "outputs": [],
   "source": [
    "le = MyLabelEncoder()\n",
    "X = le.fit_transform(credit[cat_attribs].values)"
   ]
  },
  {
   "cell_type": "code",
   "execution_count": 89,
   "metadata": {},
   "outputs": [],
   "source": [
    "num_pipeline = Pipeline([(\"selector\", DataFrameSelector(num_attribs)), (\"scale\", Normalizer())])\n",
    "cat_pipeline = Pipeline([(\"selector\", DataFrameSelector(cat_attribs)), (\"labelencoder\", MyLabelEncoder())])\n",
    "\n",
    "all_pipeline= FeatureUnion(transformer_list=[(\"num_pipeline\", num_pipeline),(\"cat_pipeline\", cat_pipeline)])\n",
    "\n",
    "X = all_pipeline.fit_transform(credit)"
   ]
  },
  {
   "cell_type": "code",
   "execution_count": 90,
   "metadata": {},
   "outputs": [
    {
     "data": {
      "text/plain": [
       "DecisionTreeClassifier(class_weight=None, criterion='gini', max_depth=None,\n",
       "            max_features=None, max_leaf_nodes=None,\n",
       "            min_impurity_decrease=0.0, min_impurity_split=None,\n",
       "            min_samples_leaf=1, min_samples_split=2,\n",
       "            min_weight_fraction_leaf=0.0, presort=False, random_state=None,\n",
       "            splitter='best')"
      ]
     },
     "execution_count": 90,
     "metadata": {},
     "output_type": "execute_result"
    }
   ],
   "source": [
    "tree_clz = DecisionTreeClassifier()\n",
    "tree_clz.fit(X, Y)"
   ]
  },
  {
   "cell_type": "code",
   "execution_count": 91,
   "metadata": {},
   "outputs": [
    {
     "data": {
      "text/plain": [
       "1.0"
      ]
     },
     "execution_count": 91,
     "metadata": {},
     "output_type": "execute_result"
    }
   ],
   "source": [
    "y_pred = tree_clz.predict(X)\n",
    "accuracy_score(Y, y_pred)"
   ]
  },
  {
   "cell_type": "code",
   "execution_count": 84,
   "metadata": {},
   "outputs": [],
   "source": [
    "from sklearn.model_selection import cross_val_score"
   ]
  },
  {
   "cell_type": "code",
   "execution_count": 92,
   "metadata": {},
   "outputs": [
    {
     "name": "stderr",
     "output_type": "stream",
     "text": [
      "[Parallel(n_jobs=4)]: Done   6 out of  10 | elapsed:    3.0s remaining:    2.0s\n",
      "[Parallel(n_jobs=4)]: Done  10 out of  10 | elapsed:    3.0s finished\n"
     ]
    }
   ],
   "source": [
    "score = cross_val_score(tree_clz, X, Y, scoring=\"accuracy\", cv=10, n_jobs=4,verbose=5)"
   ]
  },
  {
   "cell_type": "code",
   "execution_count": 93,
   "metadata": {},
   "outputs": [
    {
     "data": {
      "text/plain": [
       "array([0.72, 0.73, 0.7 , 0.68, 0.71, 0.65, 0.65, 0.71, 0.71, 0.64])"
      ]
     },
     "execution_count": 93,
     "metadata": {},
     "output_type": "execute_result"
    }
   ],
   "source": [
    "score"
   ]
  },
  {
   "cell_type": "code",
   "execution_count": 87,
   "metadata": {},
   "outputs": [
    {
     "name": "stdout",
     "output_type": "stream",
     "text": [
      "0.695\n",
      "0.76\n",
      "0.63\n"
     ]
    }
   ],
   "source": [
    "print(score.mean())\n",
    "print(score.max())\n",
    "print(score.min())"
   ]
  },
  {
   "cell_type": "code",
   "execution_count": 94,
   "metadata": {},
   "outputs": [
    {
     "name": "stdout",
     "output_type": "stream",
     "text": [
      "0.69\n",
      "0.73\n",
      "0.64\n"
     ]
    }
   ],
   "source": [
    "print(score.mean())\n",
    "print(score.max())\n",
    "print(score.min())"
   ]
  },
  {
   "cell_type": "code",
   "execution_count": null,
   "metadata": {},
   "outputs": [],
   "source": []
  }
 ],
 "metadata": {
  "kernelspec": {
   "display_name": "Python 3",
   "language": "python",
   "name": "python3"
  }
 },
 "nbformat": 4,
 "nbformat_minor": 2
}
